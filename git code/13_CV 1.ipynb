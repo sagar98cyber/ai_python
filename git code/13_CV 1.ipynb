{
 "cells": [
  {
   "cell_type": "code",
   "execution_count": 2,
   "id": "26bab3dc",
   "metadata": {},
   "outputs": [],
   "source": [
    "import cv2\n",
    "import numpy as np"
   ]
  },
  {
   "cell_type": "code",
   "execution_count": 3,
   "id": "3aed6180",
   "metadata": {},
   "outputs": [],
   "source": [
    "image = cv2.imread('flower.jpg')"
   ]
  },
  {
   "cell_type": "code",
   "execution_count": 5,
   "id": "82e69a0a",
   "metadata": {},
   "outputs": [],
   "source": [
    "image = cv2.cvtColor(image,cv2.COLOR_BGR2GRAY)\n",
    "cv2.imshow('dolphin',image)\n",
    "cv2.waitKey(0)\n",
    "\n",
    "cv2.imwrite('edges_flower.jpg',cv2.Canny(image,200,300))\n",
    "#cv2.destroyWindow('flower.jpg')\n",
    "\n",
    "cv2.imwrite(\"flower.png\",image)"
   ]
  },
  {
   "cell_type": "code",
   "execution_count": 7,
   "id": "01c5f343",
   "metadata": {},
   "outputs": [],
   "source": [
    "image = cv2.imread('dolphin.jpg')"
   ]
  },
  {
   "cell_type": "code",
   "execution_count": 8,
   "id": "d32225ec",
   "metadata": {},
   "outputs": [],
   "source": [
    "image = cv2.cvtColor(image,cv2.COLOR_BGR2GRAY)\n",
    "cv2.imshow('dolphin',image)"
   ]
  },
  {
   "cell_type": "code",
   "execution_count": 9,
   "id": "f6150509",
   "metadata": {},
   "outputs": [
    {
     "data": {
      "text/plain": [
       "True"
      ]
     },
     "execution_count": 9,
     "metadata": {},
     "output_type": "execute_result"
    }
   ],
   "source": [
    "cv2.imwrite('edges_dolphin.jpg',cv2.Canny(image,200,300))"
   ]
  },
  {
   "cell_type": "code",
   "execution_count": 10,
   "id": "a499f2d4",
   "metadata": {},
   "outputs": [
    {
     "ename": "",
     "evalue": "",
     "output_type": "error",
     "traceback": [
      "The Kernel crashed while executing code in the the current cell or a previous cell. Please review the code in the cell(s) to identify a possible cause of the failure. Click <a href='https://aka.ms/vscodeJupyterKernelCrash'>here</a> for more info. View Jupyter <a href='command:jupyter.viewOutput'>log</a> for further details."
     ]
    }
   ],
   "source": [
    "cv2.imshow('edges', cv2.imread('edges_dolphin.jpg'))"
   ]
  }
 ],
 "metadata": {
  "kernelspec": {
   "display_name": "Python 3.10.6 64-bit",
   "language": "python",
   "name": "python3"
  },
  "language_info": {
   "codemirror_mode": {
    "name": "ipython",
    "version": 3
   },
   "file_extension": ".py",
   "mimetype": "text/x-python",
   "name": "python",
   "nbconvert_exporter": "python",
   "pygments_lexer": "ipython3",
   "version": "3.10.6"
  },
  "vscode": {
   "interpreter": {
    "hash": "ff4f893f3c6bf4a630898d37a7881c0d3199aa42d138cec6e190dc1f75d63a86"
   }
  }
 },
 "nbformat": 4,
 "nbformat_minor": 5
}
