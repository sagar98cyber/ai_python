{
 "cells": [
  {
   "cell_type": "code",
   "execution_count": 6,
   "id": "8ee3df26",
   "metadata": {},
   "outputs": [
    {
     "name": "stdout",
     "output_type": "stream",
     "text": [
      "0.639311719957\n"
     ]
    }
   ],
   "source": [
    "#finding r square from scikit learn\n",
    "# Import Libary\n",
    "import numpy as np\n",
    "import pandas as pd\n",
    "import matplotlib.pyplot as plt\n",
    "from sklearn.linear_model import LinearRegression\n",
    "from sklearn.metrics import mean_squared_error\n",
    "# read data\n",
    "df=pd.read_csv('E:\\MD\\headbrain.csv')\n",
    "X = df['Head Size(cm^3)'].values\n",
    "Y = df['Brain Weight(grams)'].values\n",
    "m = len(X)\n",
    "X=X.reshape(m,1)\n",
    "reg=LinearRegression()\n",
    "reg=reg.fit(X,Y)\n",
    "\n",
    "Y_pred = reg.predict(X)\n",
    "r2_score= reg.score(X,Y)\n",
    "print(r2_score)"
   ]
  },
  {
   "cell_type": "code",
   "execution_count": null,
   "id": "54f9c2c1",
   "metadata": {},
   "outputs": [],
   "source": []
  }
 ],
 "metadata": {
  "kernelspec": {
   "display_name": "Python 3 (ipykernel)",
   "language": "python",
   "name": "python3"
  },
  "language_info": {
   "codemirror_mode": {
    "name": "ipython",
    "version": 3
   },
   "file_extension": ".py",
   "mimetype": "text/x-python",
   "name": "python",
   "nbconvert_exporter": "python",
   "pygments_lexer": "ipython3",
   "version": "3.9.7"
  }
 },
 "nbformat": 4,
 "nbformat_minor": 5
}
