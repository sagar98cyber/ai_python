{
  "nbformat": 4,
  "nbformat_minor": 0,
  "metadata": {
    "colab": {
      "name": "12 ANN.ipynb",
      "provenance": [],
      "collapsed_sections": []
    },
    "kernelspec": {
      "name": "python3",
      "display_name": "Python 3"
    },
    "language_info": {
      "name": "python"
    }
  },
  "cells": [
    {
      "cell_type": "code",
      "execution_count": 14,
      "metadata": {
        "id": "AK0takZrac2a"
      },
      "outputs": [],
      "source": [
        "#install required libraries\n",
        "import pandas as pd\n",
        "import numpy as np\n",
        "#data visualization packages\n",
        "import matplotlib.pyplot as plt\n",
        "import random \n",
        "import tensorflow as tf\n",
        "#keras packages\n",
        "import keras\n",
        "from keras.datasets import mnist\n",
        "from keras.models import Sequential\n",
        "from keras.layers.core import Dense, Dropout, Activation\n",
        "from keras.utils import np_utils\n",
        "\n"
      ]
    },
    {
      "cell_type": "code",
      "source": [
        "(x_train, y_train), (x_test, y_test) = mnist.load_data()\n",
        "print (\"X_train shape\", x_train.shape)\n",
        "print (\"y_train shape\", y_train.shape)\n",
        "print (\"X_test shape\", x_test.shape)\n",
        "print (\"y_test shape\", y_test.shape)\n",
        "\n"
      ],
      "metadata": {
        "colab": {
          "base_uri": "https://localhost:8080/"
        },
        "id": "nonyXbGZec8E",
        "outputId": "4f4f0b59-8e44-48f7-f4e4-c206822c52c9"
      },
      "execution_count": 8,
      "outputs": [
        {
          "output_type": "stream",
          "name": "stdout",
          "text": [
            "X_train shape (60000, 28, 28)\n",
            "y_train shape (60000,)\n",
            "X_test shape (10000, 28, 28)\n",
            "y_test shape (10000,)\n"
          ]
        }
      ]
    },
    {
      "cell_type": "code",
      "source": [
        "plt.rcParams['figure.figsize'] = (9,9)\n",
        "for i in range (9):\n",
        "    plt.subplot(3,3,i+1)\n",
        "    num = random.randint (0, len(x_train))\n",
        "    plt.imshow(x_train[num], cmap='gray', interpolation = 'none')\n",
        "    plt.title(\"Class {}\".format(y_train[num]))\n",
        "\n",
        "plt.tight_layout()"
      ],
      "metadata": {
        "colab": {
          "base_uri": "https://localhost:8080/",
          "height": 657
        },
        "id": "ZdaNenqNfQP7",
        "outputId": "b5d23080-fa31-4a57-a033-3010369b8f94"
      },
      "execution_count": 10,
      "outputs": [
        {
          "output_type": "display_data",
          "data": {
            "text/plain": [
              "<Figure size 648x648 with 9 Axes>"
            ],
            "image/png": "[encoded data removed]"
          },
          "metadata": {
            "needs_background": "light"
          }
        }
      ]
    },
    {
      "cell_type": "code",
      "source": [
        "x_train_norm = x_train/255\n",
        "x_test_norm = x_test/255\n",
        "\n",
        "x_valid, x_train = x_train_norm[:5000], x_train_norm[5000:]\n",
        "y_valid, y_train = y_train[:5000], y_train[5000:]\n",
        "\n",
        "x_test = x_test_norm"
      ],
      "metadata": {
        "id": "GszBmc9GxM7n"
      },
      "execution_count": 12,
      "outputs": []
    },
    {
      "cell_type": "code",
      "source": [
        "np.random.seed(42)\n",
        "tf.random.set_seed(42)"
      ],
      "metadata": {
        "id": "iuNcEIYOyQof"
      },
      "execution_count": 15,
      "outputs": []
    },
    {
      "cell_type": "code",
      "source": [
        "model = keras.models.Sequential()\n",
        "\n",
        "model.add(keras.layers.Flatten(input_shape=[28,28]))\n",
        "#model.add(keras.layers.Dense(300, activation=\"relu\"))\n",
        "#model.add(keras.layers.Dense(100, activation=\"relu\"))\n",
        "#model.add(keras.layers.Dense(10, activation=\"softmax\"))\n",
        "model.add(Activation('relu'))\n",
        "model. add(Dense(512))\n",
        "model.add(Activation('relu'))\n",
        "model.add(Dropout(0.2))\n",
        "model. add(Dense(10))\n",
        "model.add(Activation('softmax'))\n",
        "model.summary()"
      ],
      "metadata": {
        "id": "VeGHj29Syhle",
        "outputId": "e4c3ccd8-ff00-4994-88a2-1341208890bf",
        "colab": {
          "base_uri": "https://localhost:8080/"
        }
      },
      "execution_count": 31,
      "outputs": [
        {
          "output_type": "stream",
          "name": "stdout",
          "text": [
            "Model: \"sequential_1\"\n",
            "_________________________________________________________________\n",
            " Layer (type)                Output Shape              Param #   \n",
            "=================================================================\n",
            " flatten_1 (Flatten)         (None, 784)               0         \n",
            "                                                                 \n",
            " activation (Activation)     (None, 784)               0         \n",
            "                                                                 \n",
            " dense_3 (Dense)             (None, 512)               401920    \n",
            "                                                                 \n",
            " activation_1 (Activation)   (None, 512)               0         \n",
            "                                                                 \n",
            " dropout (Dropout)           (None, 512)               0         \n",
            "                                                                 \n",
            " dense_4 (Dense)             (None, 10)                5130      \n",
            "                                                                 \n",
            " activation_2 (Activation)   (None, 10)                0         \n",
            "                                                                 \n",
            "=================================================================\n",
            "Total params: 407,050\n",
            "Trainable params: 407,050\n",
            "Non-trainable params: 0\n",
            "_________________________________________________________________\n"
          ]
        }
      ]
    },
    {
      "cell_type": "code",
      "source": [
        "model.summary()"
      ],
      "metadata": {
        "id": "ZxQyum4uyeoN",
        "outputId": "a2425c92-cfdc-4d21-95d1-6fbca56b80d4",
        "colab": {
          "base_uri": "https://localhost:8080/"
        }
      },
      "execution_count": 32,
      "outputs": [
        {
          "output_type": "stream",
          "name": "stdout",
          "text": [
            "Model: \"sequential_1\"\n",
            "_________________________________________________________________\n",
            " Layer (type)                Output Shape              Param #   \n",
            "=================================================================\n",
            " flatten_1 (Flatten)         (None, 784)               0         \n",
            "                                                                 \n",
            " activation (Activation)     (None, 784)               0         \n",
            "                                                                 \n",
            " dense_3 (Dense)             (None, 512)               401920    \n",
            "                                                                 \n",
            " activation_1 (Activation)   (None, 512)               0         \n",
            "                                                                 \n",
            " dropout (Dropout)           (None, 512)               0         \n",
            "                                                                 \n",
            " dense_4 (Dense)             (None, 10)                5130      \n",
            "                                                                 \n",
            " activation_2 (Activation)   (None, 10)                0         \n",
            "                                                                 \n",
            "=================================================================\n",
            "Total params: 407,050\n",
            "Trainable params: 407,050\n",
            "Non-trainable params: 0\n",
            "_________________________________________________________________\n"
          ]
        }
      ]
    },
    {
      "cell_type": "code",
      "source": [
        "model.compile(loss=\"sparse_categorical_crossentropy\",\n",
        "              optimizer=\"sgd\",\n",
        "              metrics=[\"accuracy\"])\n",
        "\n",
        "#print(len(x_train))\n",
        "#print(len(y_train[:50000]))\n",
        "y_train = y_train[:50000]\n",
        "print(len(y_train))"
      ],
      "metadata": {
        "id": "dBuUkabzyoHe",
        "outputId": "6e331521-06ad-445b-e5ef-018b663558fe",
        "colab": {
          "base_uri": "https://localhost:8080/"
        }
      },
      "execution_count": 33,
      "outputs": [
        {
          "output_type": "stream",
          "name": "stdout",
          "text": [
            "50000\n"
          ]
        }
      ]
    },
    {
      "cell_type": "code",
      "source": [
        "model_history = model.fit(x_train,y_train,epochs=60,validation_data=(x_valid,y_valid))"
      ],
      "metadata": {
        "id": "YyY_TZLJyr4e",
        "outputId": "b4907113-a9cc-48d8-b4c2-2cddebc4a5f5",
        "colab": {
          "base_uri": "https://localhost:8080/"
        }
      },
      "execution_count": 34,
      "outputs": [
        {
          "output_type": "stream",
          "name": "stdout",
          "text": [
            "Epoch 1/60\n",
            "1563/1563 [==============================] - 7s 5ms/step - loss: 2.3015 - accuracy: 0.1124 - val_loss: 2.3012 - val_accuracy: 0.1126\n",
            "Epoch 2/60\n",
            "1563/1563 [==============================] - 8s 5ms/step - loss: 2.3013 - accuracy: 0.1130 - val_loss: 2.3009 - val_accuracy: 0.1126\n",
            "Epoch 3/60\n",
            "1563/1563 [==============================] - 7s 4ms/step - loss: 2.3013 - accuracy: 0.1130 - val_loss: 2.3010 - val_accuracy: 0.1126\n",
            "Epoch 4/60\n",
            "1563/1563 [==============================] - 7s 4ms/step - loss: 2.3013 - accuracy: 0.1130 - val_loss: 2.3011 - val_accuracy: 0.1126\n",
            "Epoch 5/60\n",
            "1563/1563 [==============================] - 7s 4ms/step - loss: 2.3013 - accuracy: 0.1130 - val_loss: 2.3010 - val_accuracy: 0.1126\n",
            "Epoch 6/60\n",
            "1563/1563 [==============================] - 7s 4ms/step - loss: 2.3013 - accuracy: 0.1130 - val_loss: 2.3010 - val_accuracy: 0.1126\n",
            "Epoch 7/60\n",
            "1563/1563 [==============================] - 7s 5ms/step - loss: 2.3013 - accuracy: 0.1130 - val_loss: 2.3009 - val_accuracy: 0.1126\n",
            "Epoch 8/60\n",
            "1563/1563 [==============================] - 6s 4ms/step - loss: 2.3013 - accuracy: 0.1130 - val_loss: 2.3011 - val_accuracy: 0.1126\n",
            "Epoch 9/60\n",
            "1563/1563 [==============================] - 7s 4ms/step - loss: 2.3013 - accuracy: 0.1130 - val_loss: 2.3011 - val_accuracy: 0.1126\n",
            "Epoch 10/60\n",
            "1563/1563 [==============================] - 7s 4ms/step - loss: 2.3013 - accuracy: 0.1130 - val_loss: 2.3010 - val_accuracy: 0.1126\n",
            "Epoch 11/60\n",
            "1563/1563 [==============================] - 7s 4ms/step - loss: 2.3013 - accuracy: 0.1130 - val_loss: 2.3009 - val_accuracy: 0.1126\n",
            "Epoch 12/60\n",
            "1563/1563 [==============================] - 7s 4ms/step - loss: 2.3012 - accuracy: 0.1130 - val_loss: 2.3010 - val_accuracy: 0.1126\n",
            "Epoch 13/60\n",
            "1563/1563 [==============================] - 7s 5ms/step - loss: 2.3013 - accuracy: 0.1130 - val_loss: 2.3009 - val_accuracy: 0.1126\n",
            "Epoch 14/60\n",
            "1563/1563 [==============================] - 7s 4ms/step - loss: 2.3013 - accuracy: 0.1130 - val_loss: 2.3009 - val_accuracy: 0.1126\n",
            "Epoch 15/60\n",
            "1563/1563 [==============================] - 7s 4ms/step - loss: 2.3012 - accuracy: 0.1130 - val_loss: 2.3012 - val_accuracy: 0.1126\n",
            "Epoch 16/60\n",
            "1563/1563 [==============================] - 7s 4ms/step - loss: 2.3013 - accuracy: 0.1130 - val_loss: 2.3011 - val_accuracy: 0.1126\n",
            "Epoch 17/60\n",
            "1563/1563 [==============================] - 7s 4ms/step - loss: 2.3013 - accuracy: 0.1130 - val_loss: 2.3010 - val_accuracy: 0.1126\n",
            "Epoch 18/60\n",
            "1563/1563 [==============================] - 7s 4ms/step - loss: 2.3013 - accuracy: 0.1130 - val_loss: 2.3013 - val_accuracy: 0.1126\n",
            "Epoch 19/60\n",
            "1563/1563 [==============================] - 7s 4ms/step - loss: 2.3013 - accuracy: 0.1130 - val_loss: 2.3010 - val_accuracy: 0.1126\n",
            "Epoch 20/60\n",
            "1563/1563 [==============================] - 7s 5ms/step - loss: 2.3013 - accuracy: 0.1130 - val_loss: 2.3009 - val_accuracy: 0.1126\n",
            "Epoch 21/60\n",
            "1563/1563 [==============================] - 8s 5ms/step - loss: 2.3012 - accuracy: 0.1130 - val_loss: 2.3010 - val_accuracy: 0.1126\n",
            "Epoch 22/60\n",
            "1563/1563 [==============================] - 7s 5ms/step - loss: 2.3013 - accuracy: 0.1130 - val_loss: 2.3010 - val_accuracy: 0.1126\n",
            "Epoch 23/60\n",
            "1563/1563 [==============================] - 7s 5ms/step - loss: 2.3013 - accuracy: 0.1130 - val_loss: 2.3010 - val_accuracy: 0.1126\n",
            "Epoch 24/60\n",
            "1563/1563 [==============================] - 7s 5ms/step - loss: 2.3012 - accuracy: 0.1130 - val_loss: 2.3010 - val_accuracy: 0.1126\n",
            "Epoch 25/60\n",
            "1563/1563 [==============================] - 7s 4ms/step - loss: 2.3013 - accuracy: 0.1130 - val_loss: 2.3011 - val_accuracy: 0.1126\n",
            "Epoch 26/60\n",
            "1563/1563 [==============================] - 7s 5ms/step - loss: 2.3012 - accuracy: 0.1130 - val_loss: 2.3008 - val_accuracy: 0.1126\n",
            "Epoch 27/60\n",
            "1563/1563 [==============================] - 7s 5ms/step - loss: 2.3013 - accuracy: 0.1130 - val_loss: 2.3011 - val_accuracy: 0.1126\n",
            "Epoch 28/60\n",
            "1563/1563 [==============================] - 7s 5ms/step - loss: 2.3012 - accuracy: 0.1130 - val_loss: 2.3010 - val_accuracy: 0.1126\n",
            "Epoch 29/60\n",
            "1563/1563 [==============================] - 7s 5ms/step - loss: 2.3013 - accuracy: 0.1130 - val_loss: 2.3011 - val_accuracy: 0.1126\n",
            "Epoch 30/60\n",
            "1563/1563 [==============================] - 7s 5ms/step - loss: 2.3013 - accuracy: 0.1130 - val_loss: 2.3009 - val_accuracy: 0.1126\n",
            "Epoch 31/60\n",
            "1563/1563 [==============================] - 7s 5ms/step - loss: 2.3013 - accuracy: 0.1130 - val_loss: 2.3008 - val_accuracy: 0.1126\n",
            "Epoch 32/60\n",
            "1563/1563 [==============================] - 8s 5ms/step - loss: 2.3013 - accuracy: 0.1130 - val_loss: 2.3010 - val_accuracy: 0.1126\n",
            "Epoch 33/60\n",
            "1563/1563 [==============================] - 7s 5ms/step - loss: 2.3012 - accuracy: 0.1130 - val_loss: 2.3010 - val_accuracy: 0.1126\n",
            "Epoch 34/60\n",
            "1563/1563 [==============================] - 8s 5ms/step - loss: 2.3013 - accuracy: 0.1130 - val_loss: 2.3011 - val_accuracy: 0.1126\n",
            "Epoch 35/60\n",
            "1563/1563 [==============================] - 7s 5ms/step - loss: 2.3013 - accuracy: 0.1130 - val_loss: 2.3012 - val_accuracy: 0.1126\n",
            "Epoch 36/60\n",
            "1563/1563 [==============================] - 7s 5ms/step - loss: 2.3013 - accuracy: 0.1130 - val_loss: 2.3012 - val_accuracy: 0.1126\n",
            "Epoch 37/60\n",
            "1563/1563 [==============================] - 7s 5ms/step - loss: 2.3012 - accuracy: 0.1130 - val_loss: 2.3010 - val_accuracy: 0.1126\n",
            "Epoch 38/60\n",
            "1563/1563 [==============================] - 7s 5ms/step - loss: 2.3013 - accuracy: 0.1130 - val_loss: 2.3010 - val_accuracy: 0.1126\n",
            "Epoch 39/60\n",
            "1563/1563 [==============================] - 7s 5ms/step - loss: 2.3012 - accuracy: 0.1130 - val_loss: 2.3009 - val_accuracy: 0.1126\n",
            "Epoch 40/60\n",
            "1563/1563 [==============================] - 7s 5ms/step - loss: 2.3013 - accuracy: 0.1130 - val_loss: 2.3008 - val_accuracy: 0.1126\n",
            "Epoch 41/60\n",
            "1563/1563 [==============================] - 7s 5ms/step - loss: 2.3012 - accuracy: 0.1130 - val_loss: 2.3009 - val_accuracy: 0.1126\n",
            "Epoch 42/60\n",
            "1563/1563 [==============================] - 7s 5ms/step - loss: 2.3013 - accuracy: 0.1130 - val_loss: 2.3009 - val_accuracy: 0.1126\n",
            "Epoch 43/60\n",
            "1563/1563 [==============================] - 7s 5ms/step - loss: 2.3012 - accuracy: 0.1130 - val_loss: 2.3008 - val_accuracy: 0.1126\n",
            "Epoch 44/60\n",
            "1563/1563 [==============================] - 7s 5ms/step - loss: 2.3012 - accuracy: 0.1130 - val_loss: 2.3008 - val_accuracy: 0.1126\n",
            "Epoch 45/60\n",
            "1563/1563 [==============================] - 7s 5ms/step - loss: 2.3013 - accuracy: 0.1130 - val_loss: 2.3010 - val_accuracy: 0.1126\n",
            "Epoch 46/60\n",
            "1563/1563 [==============================] - 7s 5ms/step - loss: 2.3013 - accuracy: 0.1130 - val_loss: 2.3009 - val_accuracy: 0.1126\n",
            "Epoch 47/60\n",
            "1563/1563 [==============================] - 7s 5ms/step - loss: 2.3013 - accuracy: 0.1130 - val_loss: 2.3009 - val_accuracy: 0.1126\n",
            "Epoch 48/60\n",
            "1563/1563 [==============================] - 7s 5ms/step - loss: 2.3013 - accuracy: 0.1130 - val_loss: 2.3010 - val_accuracy: 0.1126\n",
            "Epoch 49/60\n",
            "1563/1563 [==============================] - 7s 5ms/step - loss: 2.3013 - accuracy: 0.1130 - val_loss: 2.3009 - val_accuracy: 0.1126\n",
            "Epoch 50/60\n",
            "1563/1563 [==============================] - 7s 5ms/step - loss: 2.3012 - accuracy: 0.1130 - val_loss: 2.3009 - val_accuracy: 0.1126\n",
            "Epoch 51/60\n",
            "1563/1563 [==============================] - 7s 5ms/step - loss: 2.3013 - accuracy: 0.1130 - val_loss: 2.3011 - val_accuracy: 0.1126\n",
            "Epoch 52/60\n",
            "1563/1563 [==============================] - 7s 5ms/step - loss: 2.3012 - accuracy: 0.1130 - val_loss: 2.3009 - val_accuracy: 0.1126\n",
            "Epoch 53/60\n",
            "1563/1563 [==============================] - 8s 5ms/step - loss: 2.3013 - accuracy: 0.1130 - val_loss: 2.3010 - val_accuracy: 0.1126\n",
            "Epoch 54/60\n",
            "1563/1563 [==============================] - 8s 5ms/step - loss: 2.3012 - accuracy: 0.1130 - val_loss: 2.3010 - val_accuracy: 0.1126\n",
            "Epoch 55/60\n",
            "1563/1563 [==============================] - 7s 5ms/step - loss: 2.3012 - accuracy: 0.1130 - val_loss: 2.3009 - val_accuracy: 0.1126\n",
            "Epoch 56/60\n",
            "1563/1563 [==============================] - 8s 5ms/step - loss: 2.3012 - accuracy: 0.1130 - val_loss: 2.3011 - val_accuracy: 0.1126\n",
            "Epoch 57/60\n",
            "1563/1563 [==============================] - 7s 5ms/step - loss: 2.3012 - accuracy: 0.1130 - val_loss: 2.3009 - val_accuracy: 0.1126\n",
            "Epoch 58/60\n",
            "1563/1563 [==============================] - 7s 4ms/step - loss: 2.3013 - accuracy: 0.1130 - val_loss: 2.3011 - val_accuracy: 0.1126\n",
            "Epoch 59/60\n",
            "1563/1563 [==============================] - 7s 5ms/step - loss: 2.3012 - accuracy: 0.1130 - val_loss: 2.3011 - val_accuracy: 0.1126\n",
            "Epoch 60/60\n",
            "1563/1563 [==============================] - 7s 5ms/step - loss: 2.3013 - accuracy: 0.1130 - val_loss: 2.3012 - val_accuracy: 0.1126\n"
          ]
        }
      ]
    },
    {
      "cell_type": "code",
      "source": [
        "x_sample = x_test[:5]\n",
        "y_probability = model.predict(x_sample)"
      ],
      "metadata": {
        "id": "mSoKgn5I0gTP"
      },
      "execution_count": 35,
      "outputs": []
    },
    {
      "cell_type": "code",
      "source": [
        "y_probability.round()"
      ],
      "metadata": {
        "id": "K3Y4X7h90iQG",
        "outputId": "e3104583-700b-4d37-a179-be4c540d03b5",
        "colab": {
          "base_uri": "https://localhost:8080/"
        }
      },
      "execution_count": 36,
      "outputs": [
        {
          "output_type": "execute_result",
          "data": {
            "text/plain": [
              "array([[0., 0., 0., 0., 0., 0., 0., 0., 0., 0.],\n",
              "       [0., 0., 0., 0., 0., 0., 0., 0., 0., 0.],\n",
              "       [0., 0., 0., 0., 0., 0., 0., 0., 0., 0.],\n",
              "       [0., 0., 0., 0., 0., 0., 0., 0., 0., 0.],\n",
              "       [0., 0., 0., 0., 0., 0., 0., 0., 0., 0.]], dtype=float32)"
            ]
          },
          "metadata": {},
          "execution_count": 36
        }
      ]
    },
    {
      "cell_type": "code",
      "source": [
        "y_predict = model.predict(x_sample)"
      ],
      "metadata": {
        "id": "hzmJlEjx0lOd"
      },
      "execution_count": 37,
      "outputs": []
    }
  ]
}