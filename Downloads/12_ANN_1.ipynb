{
  "cells": [
    {
      "cell_type": "code",
      "execution_count": 1,
      "id": "e79ae388",
      "metadata": {
        "id": "e79ae388",
        "outputId": "954c8400-aa27-4232-ed38-3c0a15784208",
        "colab": {
          "base_uri": "https://localhost:8080/"
        }
      },
      "outputs": [
        {
          "output_type": "stream",
          "name": "stdout",
          "text": [
            "Downloading data from https://storage.googleapis.com/tensorflow/tf-keras-datasets/mnist.npz\n",
            "11493376/11490434 [==============================] - 0s 0us/step\n",
            "11501568/11490434 [==============================] - 0s 0us/step\n"
          ]
        }
      ],
      "source": [
        "import tensorflow as tf\n",
        "from tensorflow import keras\n",
        "import matplotlib.pyplot as plt\n",
        "import numpy as np\n",
        "\n",
        "mnist = keras.datasets.mnist\n",
        "(x_train_full, y_train_full),(x_test, y_test) = mnist.load_data()\n",
        "#The dataset is structured as a tuple of NumPy arrays: x training images, y training labels, and x test images, y test labels."
      ]
    },
    {
      "cell_type": "code",
      "execution_count": 2,
      "id": "6ac44742",
      "metadata": {
        "id": "6ac44742",
        "outputId": "8841d32a-585c-4a1f-aa4b-120bd2825351",
        "colab": {
          "base_uri": "https://localhost:8080/",
          "height": 282
        }
      },
      "outputs": [
        {
          "output_type": "execute_result",
          "data": {
            "text/plain": [
              "<matplotlib.image.AxesImage at 0x7fbc278f5990>"
            ]
          },
          "metadata": {},
          "execution_count": 2
        },
        {
          "output_type": "display_data",
          "data": {
            "text/plain": [
              "<Figure size 432x288 with 1 Axes>"
            ],
            "image/png": "[encoded data removed]"
          },
          "metadata": {
            "needs_background": "light"
          }
        }
      ],
      "source": [
        "plt.imshow(x_train_full[2])\n",
        "#It will show the 3rd training image as python indexing starts with 0.\n",
        "#perform data normalization so that all input values are between 0 and 1. \n",
        "#Since a grayscale image has pixel values of 0 to 255, we divide each pixel by 255. \n",
        "#Data normalization is necessary to reduce data redundancy and improve data integrity. \n",
        "#It makes sure your data is the same throughout your project."
      ]
    },
    {
      "cell_type": "code",
      "execution_count": 3,
      "id": "a2ede1fe",
      "metadata": {
        "id": "a2ede1fe"
      },
      "outputs": [],
      "source": [
        "x_train_norm = x_train_full/255.                #dividing the entire dataset of 65k images by 255\n",
        "x_test_norm = x_test/255.                       #dividing the entire dataset of 65k images by 255\n",
        "\n",
        "x_valid, x_train = x_train_norm[:5000], x_train_norm[5000:]\n",
        "y_valid, y_train = y_train_full[:5000], y_train_full[5000:]\n",
        "\n",
        "x_test = x_test_norm\n",
        "\n",
        "#Training data are fed after each training in an epoch. \n",
        "#An epoch is when the entire training dataset passes through the neural network once. "
      ]
    },
    {
      "cell_type": "code",
      "execution_count": 4,
      "id": "7b22e945",
      "metadata": {
        "id": "7b22e945"
      },
      "outputs": [],
      "source": [
        "np.random.seed(42)\n",
        "tf.random.set_seed(42)\n",
        "#42 is used as random seed in ML"
      ]
    },
    {
      "cell_type": "code",
      "execution_count": 5,
      "id": "0871ae9b",
      "metadata": {
        "id": "0871ae9b"
      },
      "outputs": [],
      "source": [
        "model = keras.models.Sequential()\n",
        "\n",
        "model.add(keras.layers.Flatten(input_shape=[28,28]))\n",
        "model.add(keras.layers.Dense(300, activation=\"relu\"))\n",
        "model.add(keras.layers.Dense(100, activation=\"relu\"))\n",
        "model.add(keras.layers.Dense(10, activation=\"softmax\"))\n",
        "# 1 flatten layer as the input layer\n",
        "# 2 dense relu layers as hidden layers \n",
        "# a dense softmax layer as the output layer\n",
        "\n",
        "#A flattening layer flattens the input to a single-column array. It prepares the input data for the next dense layers. \n",
        "#a dense layer is a layer of parallel perceptrons.\n",
        "\n",
        "# relu is used on hidden layers\n",
        "#sigmoid and softmax are used for output. \n",
        "#Softmax is often used as the activation for the last layer of a classification network because the result could be interpreted as a probability distribution."
      ]
    },
    {
      "cell_type": "code",
      "execution_count": 6,
      "id": "0a8bc412",
      "metadata": {
        "id": "0a8bc412",
        "outputId": "a90d28db-33b8-41b5-cce7-8a75144f5e36",
        "colab": {
          "base_uri": "https://localhost:8080/"
        }
      },
      "outputs": [
        {
          "output_type": "stream",
          "name": "stdout",
          "text": [
            "Model: \"sequential\"\n",
            "_________________________________________________________________\n",
            " Layer (type)                Output Shape              Param #   \n",
            "=================================================================\n",
            " flatten (Flatten)           (None, 784)               0         \n",
            "                                                                 \n",
            " dense (Dense)               (None, 300)               235500    \n",
            "                                                                 \n",
            " dense_1 (Dense)             (None, 100)               30100     \n",
            "                                                                 \n",
            " dense_2 (Dense)             (None, 10)                1010      \n",
            "                                                                 \n",
            "=================================================================\n",
            "Total params: 266,610\n",
            "Trainable params: 266,610\n",
            "Non-trainable params: 0\n",
            "_________________________________________________________________\n"
          ]
        }
      ],
      "source": [
        "model.summary()\n",
        "#function shows the number of parameters in each layer, how the output shape changes, \n",
        "#and the total amount of parameters to be trained."
      ]
    },
    {
      "cell_type": "code",
      "execution_count": 7,
      "id": "de30da1a",
      "metadata": {
        "id": "de30da1a"
      },
      "outputs": [],
      "source": [
        "model.compile(loss=\"sparse_categorical_crossentropy\",\n",
        "              optimizer=\"sgd\",\n",
        "              metrics=[\"accuracy\"])\n",
        "#sgd means stochastic gradient descent – a type of gradient descent that only uses a single training example per epoch."
      ]
    },
    {
      "cell_type": "code",
      "execution_count": 8,
      "id": "090de173",
      "metadata": {
        "id": "090de173",
        "outputId": "3a7cb264-3d3a-41a8-a4d7-6155f22db57c",
        "colab": {
          "base_uri": "https://localhost:8080/"
        }
      },
      "outputs": [
        {
          "output_type": "stream",
          "name": "stdout",
          "text": [
            "Epoch 1/30\n",
            "1719/1719 [==============================] - 6s 3ms/step - loss: 0.6197 - accuracy: 0.8405 - val_loss: 0.3103 - val_accuracy: 0.9120\n",
            "Epoch 2/30\n",
            "1719/1719 [==============================] - 6s 3ms/step - loss: 0.2953 - accuracy: 0.9151 - val_loss: 0.2473 - val_accuracy: 0.9302\n",
            "Epoch 3/30\n",
            "1719/1719 [==============================] - 6s 3ms/step - loss: 0.2429 - accuracy: 0.9304 - val_loss: 0.2060 - val_accuracy: 0.9424\n",
            "Epoch 4/30\n",
            "1719/1719 [==============================] - 5s 3ms/step - loss: 0.2074 - accuracy: 0.9406 - val_loss: 0.1823 - val_accuracy: 0.9494\n",
            "Epoch 5/30\n",
            "1719/1719 [==============================] - 6s 3ms/step - loss: 0.1810 - accuracy: 0.9487 - val_loss: 0.1644 - val_accuracy: 0.9540\n",
            "Epoch 6/30\n",
            "1719/1719 [==============================] - 5s 3ms/step - loss: 0.1603 - accuracy: 0.9544 - val_loss: 0.1482 - val_accuracy: 0.9600\n",
            "Epoch 7/30\n",
            "1719/1719 [==============================] - 5s 3ms/step - loss: 0.1431 - accuracy: 0.9597 - val_loss: 0.1366 - val_accuracy: 0.9632\n",
            "Epoch 8/30\n",
            "1719/1719 [==============================] - 6s 3ms/step - loss: 0.1292 - accuracy: 0.9631 - val_loss: 0.1295 - val_accuracy: 0.9638\n",
            "Epoch 9/30\n",
            "1719/1719 [==============================] - 6s 3ms/step - loss: 0.1175 - accuracy: 0.9672 - val_loss: 0.1184 - val_accuracy: 0.9672\n",
            "Epoch 10/30\n",
            "1719/1719 [==============================] - 6s 3ms/step - loss: 0.1078 - accuracy: 0.9696 - val_loss: 0.1091 - val_accuracy: 0.9688\n",
            "Epoch 11/30\n",
            "1719/1719 [==============================] - 6s 3ms/step - loss: 0.0988 - accuracy: 0.9719 - val_loss: 0.1049 - val_accuracy: 0.9694\n",
            "Epoch 12/30\n",
            "1719/1719 [==============================] - 5s 3ms/step - loss: 0.0912 - accuracy: 0.9745 - val_loss: 0.1005 - val_accuracy: 0.9706\n",
            "Epoch 13/30\n",
            "1719/1719 [==============================] - 6s 3ms/step - loss: 0.0844 - accuracy: 0.9763 - val_loss: 0.0948 - val_accuracy: 0.9730\n",
            "Epoch 14/30\n",
            "1719/1719 [==============================] - 5s 3ms/step - loss: 0.0782 - accuracy: 0.9779 - val_loss: 0.0921 - val_accuracy: 0.9736\n",
            "Epoch 15/30\n",
            "1719/1719 [==============================] - 5s 3ms/step - loss: 0.0727 - accuracy: 0.9794 - val_loss: 0.0876 - val_accuracy: 0.9730\n",
            "Epoch 16/30\n",
            "1719/1719 [==============================] - 6s 3ms/step - loss: 0.0678 - accuracy: 0.9805 - val_loss: 0.0860 - val_accuracy: 0.9740\n",
            "Epoch 17/30\n",
            "1719/1719 [==============================] - 6s 3ms/step - loss: 0.0633 - accuracy: 0.9823 - val_loss: 0.0833 - val_accuracy: 0.9752\n",
            "Epoch 18/30\n",
            "1719/1719 [==============================] - 6s 3ms/step - loss: 0.0593 - accuracy: 0.9835 - val_loss: 0.0798 - val_accuracy: 0.9764\n",
            "Epoch 19/30\n",
            "1719/1719 [==============================] - 6s 3ms/step - loss: 0.0556 - accuracy: 0.9850 - val_loss: 0.0781 - val_accuracy: 0.9772\n",
            "Epoch 20/30\n",
            "1719/1719 [==============================] - 6s 3ms/step - loss: 0.0520 - accuracy: 0.9860 - val_loss: 0.0773 - val_accuracy: 0.9762\n",
            "Epoch 21/30\n",
            "1719/1719 [==============================] - 6s 3ms/step - loss: 0.0489 - accuracy: 0.9868 - val_loss: 0.0735 - val_accuracy: 0.9784\n",
            "Epoch 22/30\n",
            "1719/1719 [==============================] - 5s 3ms/step - loss: 0.0459 - accuracy: 0.9877 - val_loss: 0.0741 - val_accuracy: 0.9780\n",
            "Epoch 23/30\n",
            "1719/1719 [==============================] - 5s 3ms/step - loss: 0.0432 - accuracy: 0.9884 - val_loss: 0.0755 - val_accuracy: 0.9772\n",
            "Epoch 24/30\n",
            "1719/1719 [==============================] - 6s 3ms/step - loss: 0.0405 - accuracy: 0.9893 - val_loss: 0.0726 - val_accuracy: 0.9774\n",
            "Epoch 25/30\n",
            "1719/1719 [==============================] - 6s 3ms/step - loss: 0.0384 - accuracy: 0.9901 - val_loss: 0.0705 - val_accuracy: 0.9792\n",
            "Epoch 26/30\n",
            "1719/1719 [==============================] - 6s 3ms/step - loss: 0.0361 - accuracy: 0.9910 - val_loss: 0.0678 - val_accuracy: 0.9798\n",
            "Epoch 27/30\n",
            "1719/1719 [==============================] - 5s 3ms/step - loss: 0.0341 - accuracy: 0.9916 - val_loss: 0.0671 - val_accuracy: 0.9806\n",
            "Epoch 28/30\n",
            "1719/1719 [==============================] - 6s 3ms/step - loss: 0.0322 - accuracy: 0.9922 - val_loss: 0.0690 - val_accuracy: 0.9804\n",
            "Epoch 29/30\n",
            "1719/1719 [==============================] - 6s 3ms/step - loss: 0.0301 - accuracy: 0.9932 - val_loss: 0.0674 - val_accuracy: 0.9792\n",
            "Epoch 30/30\n",
            "1719/1719 [==============================] - 6s 3ms/step - loss: 0.0286 - accuracy: 0.9935 - val_loss: 0.0671 - val_accuracy: 0.9800\n"
          ]
        }
      ],
      "source": [
        "model_history = model.fit(x_train,y_train,epochs=30,validation_data=(x_valid,y_valid))\n",
        "#accuracy = 99% using our test data"
      ]
    },
    {
      "cell_type": "code",
      "execution_count": 9,
      "id": "cd200b1c",
      "metadata": {
        "id": "cd200b1c"
      },
      "outputs": [],
      "source": [
        "x_sample = x_test[:5]\n",
        "y_probability = model.predict(x_sample)\n",
        "#took 5 images – index 0 to 4, and feed them to model"
      ]
    },
    {
      "cell_type": "code",
      "execution_count": 10,
      "id": "ac6325ab",
      "metadata": {
        "id": "ac6325ab",
        "outputId": "5cec11ad-b2c1-4c19-f6fa-a184523c0237",
        "colab": {
          "base_uri": "https://localhost:8080/"
        }
      },
      "outputs": [
        {
          "output_type": "execute_result",
          "data": {
            "text/plain": [
              "array([[0., 0., 0., 0., 0., 0., 0., 1., 0., 0.],\n",
              "       [0., 0., 1., 0., 0., 0., 0., 0., 0., 0.],\n",
              "       [0., 1., 0., 0., 0., 0., 0., 0., 0., 0.],\n",
              "       [1., 0., 0., 0., 0., 0., 0., 0., 0., 0.],\n",
              "       [0., 0., 0., 0., 1., 0., 0., 0., 0., 0.]], dtype=float32)"
            ]
          },
          "metadata": {},
          "execution_count": 10
        }
      ],
      "source": [
        "y_probability.round()\n",
        "#returns the probability of the image"
      ]
    },
    {
      "cell_type": "code",
      "execution_count": 11,
      "id": "9c454df8",
      "metadata": {
        "id": "9c454df8"
      },
      "outputs": [],
      "source": [
        "y_predict = model.predict(x_sample)"
      ]
    },
    {
      "cell_type": "code",
      "execution_count": null,
      "id": "f2d0ed62",
      "metadata": {
        "id": "f2d0ed62"
      },
      "outputs": [],
      "source": [
        ""
      ]
    }
  ],
  "metadata": {
    "kernelspec": {
      "display_name": "Python 3 (ipykernel)",
      "language": "python",
      "name": "python3"
    },
    "language_info": {
      "codemirror_mode": {
        "name": "ipython",
        "version": 3
      },
      "file_extension": ".py",
      "mimetype": "text/x-python",
      "name": "python",
      "nbconvert_exporter": "python",
      "pygments_lexer": "ipython3",
      "version": "3.9.7"
    },
    "colab": {
      "name": "push on github 12 ANN_1.ipynb",
      "provenance": []
    }
  },
  "nbformat": 4,
  "nbformat_minor": 5
}